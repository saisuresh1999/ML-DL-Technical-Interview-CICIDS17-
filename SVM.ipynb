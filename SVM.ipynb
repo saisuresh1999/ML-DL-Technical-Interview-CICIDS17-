{
  "nbformat": 4,
  "nbformat_minor": 0,
  "metadata": {
    "colab": {
      "name": "SVM.ipynb",
      "provenance": [],
      "collapsed_sections": [],
      "mount_file_id": "12ya2l1w7bMHt25s6eDys28evnY_R5Gdk",
      "authorship_tag": "ABX9TyPeodsNTnGKs9K7xrgn/Kcq",
      "include_colab_link": true
    },
    "kernelspec": {
      "name": "python3",
      "display_name": "Python 3"
    },
    "language_info": {
      "name": "python"
    }
  },
  "cells": [
    {
      "cell_type": "markdown",
      "metadata": {
        "id": "view-in-github",
        "colab_type": "text"
      },
      "source": [
        "<a href=\"https://colab.research.google.com/github/saisuresh1999/ML-DL-Technical-Interview-CICIDS17-/blob/main/SVM.ipynb\" target=\"_parent\"><img src=\"https://colab.research.google.com/assets/colab-badge.svg\" alt=\"Open In Colab\"/></a>"
      ]
    },
    {
      "cell_type": "code",
      "metadata": {
        "id": "jMH9A0w4gwVK"
      },
      "source": [
        "import pandas as pd\n",
        "from time import time\n",
        "from sklearn.model_selection import train_test_split\n",
        "from sklearn import preprocessing\n"
      ],
      "execution_count": 1,
      "outputs": []
    },
    {
      "cell_type": "code",
      "metadata": {
        "id": "tmNSBtwfoRgZ"
      },
      "source": [
        "import glob\n",
        "import matplotlib.pyplot as plt\n",
        "import numpy as np\n",
        "import pandas as pd \n",
        "import seaborn\n",
        "import time\n",
        "\n",
        "from numpy import array\n",
        "\n",
        "from sklearn import preprocessing\n",
        "from sklearn.preprocessing import StandardScaler\n",
        "from sklearn.preprocessing import MinMaxScaler\n",
        "from sklearn.preprocessing import RobustScaler\n",
        "\n",
        "from sklearn.svm import LinearSVC\n",
        "\n",
        "\n",
        "from sklearn.feature_selection import SelectKBest\n",
        "from sklearn.feature_selection import chi2\n",
        "from sklearn.feature_selection import mutual_info_classif\n",
        "\n",
        "from sklearn import metrics\n",
        "from sklearn.metrics import accuracy_score\n",
        "from sklearn.metrics import confusion_matrix\n",
        "from sklearn.metrics import precision_recall_fscore_support as score\n",
        "from sklearn.metrics import completeness_score, homogeneity_score, v_measure_score\n",
        "\n",
        "from sklearn.model_selection import train_test_split"
      ],
      "execution_count": 8,
      "outputs": []
    },
    {
      "cell_type": "code",
      "metadata": {
        "id": "BDToj6z6ksDX"
      },
      "source": [
        "datapath = \"/content/drive/MyDrive/Dataset_clean.csv\"\n",
        "df=pd.read_csv(datapath,header=0,low_memory=False)\n"
      ],
      "execution_count": 2,
      "outputs": []
    },
    {
      "cell_type": "code",
      "metadata": {
        "id": "mdzMfVTMkuBc"
      },
      "source": [
        "df['Label'] = df['Label'].apply(lambda x: 0 if 'BENIGN' in x else 1)\n"
      ],
      "execution_count": 3,
      "outputs": []
    },
    {
      "cell_type": "code",
      "metadata": {
        "colab": {
          "base_uri": "https://localhost:8080/"
        },
        "id": "1PUbwsXRkwU8",
        "outputId": "f9e3d1ed-703b-41f2-f2cd-ec4a2d02f27d"
      },
      "source": [
        "\"\"\"# Train Test Split\n",
        "t0 = time()\n",
        "X_train, X_test, y_train,y_test = train_test_split(df.iloc[:,0:-1], df['Label'], test_size=0.3, random_state=42)\n",
        "tt = time()-t0\n",
        "print (\"Split dataset in {} seconds\".format(round(tt,3)))\n",
        "\"\"\""
      ],
      "execution_count": 4,
      "outputs": [
        {
          "output_type": "stream",
          "text": [
            "Split dataset in 4.457 seconds\n"
          ],
          "name": "stdout"
        }
      ]
    },
    {
      "cell_type": "code",
      "metadata": {
        "id": "QTykRVABky8M"
      },
      "source": [
        "# xs=feature vectors, ys=labels\n",
        "xs = df.iloc[:,0:-1]\n",
        "ys = df['Label']\n",
        "\n",
        "# split dataset \n",
        "x_train, x_temp, y_train, y_temp = train_test_split(xs, ys, test_size=0.4, random_state=42)\n",
        "x_test, x_validate, y_test, y_validate = train_test_split(x_temp, y_temp, test_size=0.5, random_state=42)"
      ],
      "execution_count": 6,
      "outputs": []
    },
    {
      "cell_type": "code",
      "metadata": {
        "colab": {
          "base_uri": "https://localhost:8080/"
        },
        "id": "irHPsxA2nlYT",
        "outputId": "e4abd4bf-4b8d-4592-a574-42e18e106b99"
      },
      "source": [
        "# Normalise\n",
        "min_max_scaler = MinMaxScaler().fit(x_train)\n",
        "\n",
        "# Apply normalisation to dataset\n",
        "x_train = min_max_scaler.transform(x_train)\n",
        "x_validate = min_max_scaler.transform(x_validate)\n",
        "x_test = min_max_scaler.transform(x_test)\n",
        "\n",
        "# All values between 0 and 1\n",
        "pd.Series(x_train.flatten()).describe()"
      ],
      "execution_count": 9,
      "outputs": [
        {
          "output_type": "execute_result",
          "data": {
            "text/plain": [
              "count    1.135240e+08\n",
              "mean     9.302320e-02\n",
              "std      2.607999e-01\n",
              "min      0.000000e+00\n",
              "25%      0.000000e+00\n",
              "50%      2.449293e-07\n",
              "75%      6.410256e-03\n",
              "max      1.000000e+00\n",
              "dtype: float64"
            ]
          },
          "metadata": {
            "tags": []
          },
          "execution_count": 9
        }
      ]
    },
    {
      "cell_type": "code",
      "metadata": {
        "id": "JP7TZdxpoGgc"
      },
      "source": [
        "\n",
        "features = SelectKBest(score_func=chi2, k=x_train.shape[1])\n",
        "\n",
        "#fit features to the training dataset\n",
        "fit = features.fit(x_train, y_train)"
      ],
      "execution_count": 11,
      "outputs": []
    },
    {
      "cell_type": "code",
      "metadata": {
        "id": "ferWB9OyoetS"
      },
      "source": [
        "features = SelectKBest(score_func=chi2, k=40)\n",
        "fit = features.fit(x_train, y_train)\n",
        "x_train = fit.transform(x_train)\n",
        "x_test = fit.transform(x_test)\n",
        "x_validate = fit.transform(x_validate)"
      ],
      "execution_count": 12,
      "outputs": []
    },
    {
      "cell_type": "code",
      "metadata": {
        "id": "XMZB3PTQosJ7"
      },
      "source": [
        "new_features = df.columns[features.get_support(indices=True)]\n"
      ],
      "execution_count": 14,
      "outputs": []
    },
    {
      "cell_type": "code",
      "metadata": {
        "id": "R46TLJyhowk7"
      },
      "source": [
        "classifier = LinearSVC()\n"
      ],
      "execution_count": 15,
      "outputs": []
    },
    {
      "cell_type": "code",
      "metadata": {
        "colab": {
          "base_uri": "https://localhost:8080/",
          "height": 159
        },
        "id": "gpiwQYk9o4wj",
        "outputId": "97bd392c-138b-48b0-fdf3-18a1fff1c8db"
      },
      "source": [
        "# fit the model\n",
        "start = time.time()\n",
        "classifier.fit(x_train, y_train)\n",
        "end = time.time()\n",
        "training_time = end - start\n",
        "\n",
        "# predict validation\n",
        "start = time.time()\n",
        "y_predicted = classifier.predict(x_validate)\n",
        "end = time.time()\n",
        "predict_time = end  - start\n",
        "print(training_time, predict_time)\n",
        "\n",
        "confusion_svm_1 = pd.crosstab(y_validate, y_predicted)\n",
        "confusion_svm_1"
      ],
      "execution_count": 17,
      "outputs": [
        {
          "output_type": "stream",
          "text": [
            "191.967120885849 0.06544375419616699\n"
          ],
          "name": "stdout"
        },
        {
          "output_type": "execute_result",
          "data": {
            "text/html": [
              "<div>\n",
              "<style scoped>\n",
              "    .dataframe tbody tr th:only-of-type {\n",
              "        vertical-align: middle;\n",
              "    }\n",
              "\n",
              "    .dataframe tbody tr th {\n",
              "        vertical-align: top;\n",
              "    }\n",
              "\n",
              "    .dataframe thead th {\n",
              "        text-align: right;\n",
              "    }\n",
              "</style>\n",
              "<table border=\"1\" class=\"dataframe\">\n",
              "  <thead>\n",
              "    <tr style=\"text-align: right;\">\n",
              "      <th>col_0</th>\n",
              "      <th>0</th>\n",
              "      <th>1</th>\n",
              "    </tr>\n",
              "    <tr>\n",
              "      <th>Label</th>\n",
              "      <th></th>\n",
              "      <th></th>\n",
              "    </tr>\n",
              "  </thead>\n",
              "  <tbody>\n",
              "    <tr>\n",
              "      <th>0</th>\n",
              "      <td>399455</td>\n",
              "      <td>7756</td>\n",
              "    </tr>\n",
              "    <tr>\n",
              "      <th>1</th>\n",
              "      <td>21676</td>\n",
              "      <td>56259</td>\n",
              "    </tr>\n",
              "  </tbody>\n",
              "</table>\n",
              "</div>"
            ],
            "text/plain": [
              "col_0       0      1\n",
              "Label               \n",
              "0      399455   7756\n",
              "1       21676  56259"
            ]
          },
          "metadata": {
            "tags": []
          },
          "execution_count": 17
        }
      ]
    },
    {
      "cell_type": "code",
      "metadata": {
        "colab": {
          "base_uri": "https://localhost:8080/",
          "height": 111
        },
        "id": "c7e2qpdHo7P7",
        "outputId": "0ab0da76-2124-4760-a5f8-d78bea8c403c"
      },
      "source": [
        "precision, recall, fscore, support = score(y_validate, y_predicted)\n",
        "d = {'attack': [0,1], 'precision': precision, 'recall' : recall, 'fscore': fscore}\n",
        "results = pd.DataFrame(data=d)\n",
        "results"
      ],
      "execution_count": 18,
      "outputs": [
        {
          "output_type": "execute_result",
          "data": {
            "text/html": [
              "<div>\n",
              "<style scoped>\n",
              "    .dataframe tbody tr th:only-of-type {\n",
              "        vertical-align: middle;\n",
              "    }\n",
              "\n",
              "    .dataframe tbody tr th {\n",
              "        vertical-align: top;\n",
              "    }\n",
              "\n",
              "    .dataframe thead th {\n",
              "        text-align: right;\n",
              "    }\n",
              "</style>\n",
              "<table border=\"1\" class=\"dataframe\">\n",
              "  <thead>\n",
              "    <tr style=\"text-align: right;\">\n",
              "      <th></th>\n",
              "      <th>attack</th>\n",
              "      <th>precision</th>\n",
              "      <th>recall</th>\n",
              "      <th>fscore</th>\n",
              "    </tr>\n",
              "  </thead>\n",
              "  <tbody>\n",
              "    <tr>\n",
              "      <th>0</th>\n",
              "      <td>0</td>\n",
              "      <td>0.948529</td>\n",
              "      <td>0.980953</td>\n",
              "      <td>0.964469</td>\n",
              "    </tr>\n",
              "    <tr>\n",
              "      <th>1</th>\n",
              "      <td>1</td>\n",
              "      <td>0.878841</td>\n",
              "      <td>0.721871</td>\n",
              "      <td>0.792659</td>\n",
              "    </tr>\n",
              "  </tbody>\n",
              "</table>\n",
              "</div>"
            ],
            "text/plain": [
              "   attack  precision    recall    fscore\n",
              "0       0   0.948529  0.980953  0.964469\n",
              "1       1   0.878841  0.721871  0.792659"
            ]
          },
          "metadata": {
            "tags": []
          },
          "execution_count": 18
        }
      ]
    },
    {
      "cell_type": "code",
      "metadata": {
        "id": "L8uG6ztXqHXq"
      },
      "source": [
        ""
      ],
      "execution_count": null,
      "outputs": []
    }
  ]
}