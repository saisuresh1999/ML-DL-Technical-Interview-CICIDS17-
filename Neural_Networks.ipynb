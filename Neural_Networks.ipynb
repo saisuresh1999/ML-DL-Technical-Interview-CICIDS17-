{
  "nbformat": 4,
  "nbformat_minor": 0,
  "metadata": {
    "colab": {
      "name": "Neural Networks.ipynb",
      "provenance": [],
      "mount_file_id": "1Hgk-KV_FEHzCcBx1hxGTmYpxJfZJvr_F",
      "authorship_tag": "ABX9TyMoTpvFNxhkvwGJiTKaJfY5",
      "include_colab_link": true
    },
    "kernelspec": {
      "name": "python3",
      "display_name": "Python 3"
    },
    "language_info": {
      "name": "python"
    },
    "accelerator": "GPU"
  },
  "cells": [
    {
      "cell_type": "markdown",
      "metadata": {
        "id": "view-in-github",
        "colab_type": "text"
      },
      "source": [
        "<a href=\"https://colab.research.google.com/github/saisuresh1999/ML-DL-Technical-Interview-CICIDS17-/blob/main/Neural_Networks.ipynb\" target=\"_parent\"><img src=\"https://colab.research.google.com/assets/colab-badge.svg\" alt=\"Open In Colab\"/></a>"
      ]
    },
    {
      "cell_type": "code",
      "metadata": {
        "id": "C3v5gm4iZXDm"
      },
      "source": [
        "import pandas as pd\n",
        "import numpy as np\n"
      ],
      "execution_count": 23,
      "outputs": []
    },
    {
      "cell_type": "code",
      "metadata": {
        "id": "ws7cOlDgYCjC"
      },
      "source": [
        "datapath = \"/content/drive/MyDrive/Dataset_clean.csv\"\n",
        "dataset = pd.read_csv(datapath)"
      ],
      "execution_count": 24,
      "outputs": []
    },
    {
      "cell_type": "code",
      "metadata": {
        "id": "wPNi2lRuZTvk"
      },
      "source": [
        "# Splitting dataset into features and labels.\n",
        "\n",
        "labels = dataset['Label']\n",
        "features = dataset.loc[:, dataset.columns != 'Label'].astype('float64')"
      ],
      "execution_count": 25,
      "outputs": []
    },
    {
      "cell_type": "code",
      "metadata": {
        "colab": {
          "base_uri": "https://localhost:8080/",
          "height": 224
        },
        "id": "kCZecfScZfY4",
        "outputId": "20a2f42a-ba58-4890-9a17-ccca6539cea2"
      },
      "source": [
        "features.head()\n"
      ],
      "execution_count": 26,
      "outputs": [
        {
          "output_type": "execute_result",
          "data": {
            "text/html": [
              "<div>\n",
              "<style scoped>\n",
              "    .dataframe tbody tr th:only-of-type {\n",
              "        vertical-align: middle;\n",
              "    }\n",
              "\n",
              "    .dataframe tbody tr th {\n",
              "        vertical-align: top;\n",
              "    }\n",
              "\n",
              "    .dataframe thead th {\n",
              "        text-align: right;\n",
              "    }\n",
              "</style>\n",
              "<table border=\"1\" class=\"dataframe\">\n",
              "  <thead>\n",
              "    <tr style=\"text-align: right;\">\n",
              "      <th></th>\n",
              "      <th>DestinationPort</th>\n",
              "      <th>FlowDuration</th>\n",
              "      <th>TotalFwdPackets</th>\n",
              "      <th>TotalBackwardPackets</th>\n",
              "      <th>TotalLengthofFwdPackets</th>\n",
              "      <th>TotalLengthofBwdPackets</th>\n",
              "      <th>FwdPacketLengthMax</th>\n",
              "      <th>FwdPacketLengthMin</th>\n",
              "      <th>FwdPacketLengthMean</th>\n",
              "      <th>FwdPacketLengthStd</th>\n",
              "      <th>BwdPacketLengthMax</th>\n",
              "      <th>BwdPacketLengthMin</th>\n",
              "      <th>BwdPacketLengthMean</th>\n",
              "      <th>BwdPacketLengthStd</th>\n",
              "      <th>FlowBytes/s</th>\n",
              "      <th>FlowPackets/s</th>\n",
              "      <th>FlowIATMean</th>\n",
              "      <th>FlowIATStd</th>\n",
              "      <th>FlowIATMax</th>\n",
              "      <th>FlowIATMin</th>\n",
              "      <th>FwdIATTotal</th>\n",
              "      <th>FwdIATMean</th>\n",
              "      <th>FwdIATStd</th>\n",
              "      <th>FwdIATMax</th>\n",
              "      <th>FwdIATMin</th>\n",
              "      <th>BwdIATTotal</th>\n",
              "      <th>BwdIATMean</th>\n",
              "      <th>BwdIATStd</th>\n",
              "      <th>BwdIATMax</th>\n",
              "      <th>BwdIATMin</th>\n",
              "      <th>FwdPSHFlags</th>\n",
              "      <th>BwdPSHFlags</th>\n",
              "      <th>FwdURGFlags</th>\n",
              "      <th>BwdURGFlags</th>\n",
              "      <th>FwdHeaderLength</th>\n",
              "      <th>BwdHeaderLength</th>\n",
              "      <th>FwdPackets/s</th>\n",
              "      <th>BwdPackets/s</th>\n",
              "      <th>MinPacketLength</th>\n",
              "      <th>MaxPacketLength</th>\n",
              "      <th>PacketLengthMean</th>\n",
              "      <th>PacketLengthStd</th>\n",
              "      <th>PacketLengthVariance</th>\n",
              "      <th>FINFlagCount</th>\n",
              "      <th>SYNFlagCount</th>\n",
              "      <th>RSTFlagCount</th>\n",
              "      <th>PSHFlagCount</th>\n",
              "      <th>ACKFlagCount</th>\n",
              "      <th>URGFlagCount</th>\n",
              "      <th>CWEFlagCount</th>\n",
              "      <th>ECEFlagCount</th>\n",
              "      <th>Down/UpRatio</th>\n",
              "      <th>AveragePacketSize</th>\n",
              "      <th>AvgFwdSegmentSize</th>\n",
              "      <th>AvgBwdSegmentSize</th>\n",
              "      <th>FwdHeaderLength.1</th>\n",
              "      <th>FwdAvgBytes/Bulk</th>\n",
              "      <th>FwdAvgPackets/Bulk</th>\n",
              "      <th>FwdAvgBulkRate</th>\n",
              "      <th>BwdAvgBytes/Bulk</th>\n",
              "      <th>BwdAvgPackets/Bulk</th>\n",
              "      <th>BwdAvgBulkRate</th>\n",
              "      <th>SubflowFwdPackets</th>\n",
              "      <th>SubflowFwdBytes</th>\n",
              "      <th>SubflowBwdPackets</th>\n",
              "      <th>SubflowBwdBytes</th>\n",
              "      <th>Init_Win_bytes_forward</th>\n",
              "      <th>Init_Win_bytes_backward</th>\n",
              "      <th>act_data_pkt_fwd</th>\n",
              "      <th>min_seg_size_forward</th>\n",
              "      <th>ActiveMean</th>\n",
              "      <th>ActiveStd</th>\n",
              "      <th>ActiveMax</th>\n",
              "      <th>ActiveMin</th>\n",
              "      <th>IdleMean</th>\n",
              "      <th>IdleStd</th>\n",
              "      <th>IdleMax</th>\n",
              "      <th>IdleMin</th>\n",
              "    </tr>\n",
              "  </thead>\n",
              "  <tbody>\n",
              "    <tr>\n",
              "      <th>0</th>\n",
              "      <td>54865.0</td>\n",
              "      <td>3.0</td>\n",
              "      <td>2.0</td>\n",
              "      <td>0.0</td>\n",
              "      <td>12.0</td>\n",
              "      <td>0.0</td>\n",
              "      <td>6.0</td>\n",
              "      <td>6.0</td>\n",
              "      <td>6.0</td>\n",
              "      <td>0.0</td>\n",
              "      <td>0.0</td>\n",
              "      <td>0.0</td>\n",
              "      <td>0.0</td>\n",
              "      <td>0.0</td>\n",
              "      <td>4.000000e+06</td>\n",
              "      <td>666666.66670</td>\n",
              "      <td>3.0</td>\n",
              "      <td>0.0</td>\n",
              "      <td>3.0</td>\n",
              "      <td>3.0</td>\n",
              "      <td>3.0</td>\n",
              "      <td>3.0</td>\n",
              "      <td>0.0</td>\n",
              "      <td>3.0</td>\n",
              "      <td>3.0</td>\n",
              "      <td>0.0</td>\n",
              "      <td>0.0</td>\n",
              "      <td>0.0</td>\n",
              "      <td>0.0</td>\n",
              "      <td>0.0</td>\n",
              "      <td>0.0</td>\n",
              "      <td>0.0</td>\n",
              "      <td>0.0</td>\n",
              "      <td>0.0</td>\n",
              "      <td>40.0</td>\n",
              "      <td>0.0</td>\n",
              "      <td>666666.666700</td>\n",
              "      <td>0.000000</td>\n",
              "      <td>6.0</td>\n",
              "      <td>6.0</td>\n",
              "      <td>6.0</td>\n",
              "      <td>0.0</td>\n",
              "      <td>0.0</td>\n",
              "      <td>0.0</td>\n",
              "      <td>0.0</td>\n",
              "      <td>0.0</td>\n",
              "      <td>0.0</td>\n",
              "      <td>1.0</td>\n",
              "      <td>0.0</td>\n",
              "      <td>0.0</td>\n",
              "      <td>0.0</td>\n",
              "      <td>0.0</td>\n",
              "      <td>9.0</td>\n",
              "      <td>6.0</td>\n",
              "      <td>0.0</td>\n",
              "      <td>40.0</td>\n",
              "      <td>0.0</td>\n",
              "      <td>0.0</td>\n",
              "      <td>0.0</td>\n",
              "      <td>0.0</td>\n",
              "      <td>0.0</td>\n",
              "      <td>0.0</td>\n",
              "      <td>2.0</td>\n",
              "      <td>12.0</td>\n",
              "      <td>0.0</td>\n",
              "      <td>0.0</td>\n",
              "      <td>33.0</td>\n",
              "      <td>-1.0</td>\n",
              "      <td>1.0</td>\n",
              "      <td>20.0</td>\n",
              "      <td>0.0</td>\n",
              "      <td>0.0</td>\n",
              "      <td>0.0</td>\n",
              "      <td>0.0</td>\n",
              "      <td>0.0</td>\n",
              "      <td>0.0</td>\n",
              "      <td>0.0</td>\n",
              "      <td>0.0</td>\n",
              "    </tr>\n",
              "    <tr>\n",
              "      <th>1</th>\n",
              "      <td>55054.0</td>\n",
              "      <td>109.0</td>\n",
              "      <td>1.0</td>\n",
              "      <td>1.0</td>\n",
              "      <td>6.0</td>\n",
              "      <td>6.0</td>\n",
              "      <td>6.0</td>\n",
              "      <td>6.0</td>\n",
              "      <td>6.0</td>\n",
              "      <td>0.0</td>\n",
              "      <td>6.0</td>\n",
              "      <td>6.0</td>\n",
              "      <td>6.0</td>\n",
              "      <td>0.0</td>\n",
              "      <td>1.100917e+05</td>\n",
              "      <td>18348.62385</td>\n",
              "      <td>109.0</td>\n",
              "      <td>0.0</td>\n",
              "      <td>109.0</td>\n",
              "      <td>109.0</td>\n",
              "      <td>0.0</td>\n",
              "      <td>0.0</td>\n",
              "      <td>0.0</td>\n",
              "      <td>0.0</td>\n",
              "      <td>0.0</td>\n",
              "      <td>0.0</td>\n",
              "      <td>0.0</td>\n",
              "      <td>0.0</td>\n",
              "      <td>0.0</td>\n",
              "      <td>0.0</td>\n",
              "      <td>0.0</td>\n",
              "      <td>0.0</td>\n",
              "      <td>0.0</td>\n",
              "      <td>0.0</td>\n",
              "      <td>20.0</td>\n",
              "      <td>20.0</td>\n",
              "      <td>9174.311927</td>\n",
              "      <td>9174.311927</td>\n",
              "      <td>6.0</td>\n",
              "      <td>6.0</td>\n",
              "      <td>6.0</td>\n",
              "      <td>0.0</td>\n",
              "      <td>0.0</td>\n",
              "      <td>0.0</td>\n",
              "      <td>0.0</td>\n",
              "      <td>0.0</td>\n",
              "      <td>0.0</td>\n",
              "      <td>1.0</td>\n",
              "      <td>1.0</td>\n",
              "      <td>0.0</td>\n",
              "      <td>0.0</td>\n",
              "      <td>1.0</td>\n",
              "      <td>9.0</td>\n",
              "      <td>6.0</td>\n",
              "      <td>6.0</td>\n",
              "      <td>20.0</td>\n",
              "      <td>0.0</td>\n",
              "      <td>0.0</td>\n",
              "      <td>0.0</td>\n",
              "      <td>0.0</td>\n",
              "      <td>0.0</td>\n",
              "      <td>0.0</td>\n",
              "      <td>1.0</td>\n",
              "      <td>6.0</td>\n",
              "      <td>1.0</td>\n",
              "      <td>6.0</td>\n",
              "      <td>29.0</td>\n",
              "      <td>256.0</td>\n",
              "      <td>0.0</td>\n",
              "      <td>20.0</td>\n",
              "      <td>0.0</td>\n",
              "      <td>0.0</td>\n",
              "      <td>0.0</td>\n",
              "      <td>0.0</td>\n",
              "      <td>0.0</td>\n",
              "      <td>0.0</td>\n",
              "      <td>0.0</td>\n",
              "      <td>0.0</td>\n",
              "    </tr>\n",
              "    <tr>\n",
              "      <th>2</th>\n",
              "      <td>55055.0</td>\n",
              "      <td>52.0</td>\n",
              "      <td>1.0</td>\n",
              "      <td>1.0</td>\n",
              "      <td>6.0</td>\n",
              "      <td>6.0</td>\n",
              "      <td>6.0</td>\n",
              "      <td>6.0</td>\n",
              "      <td>6.0</td>\n",
              "      <td>0.0</td>\n",
              "      <td>6.0</td>\n",
              "      <td>6.0</td>\n",
              "      <td>6.0</td>\n",
              "      <td>0.0</td>\n",
              "      <td>2.307692e+05</td>\n",
              "      <td>38461.53846</td>\n",
              "      <td>52.0</td>\n",
              "      <td>0.0</td>\n",
              "      <td>52.0</td>\n",
              "      <td>52.0</td>\n",
              "      <td>0.0</td>\n",
              "      <td>0.0</td>\n",
              "      <td>0.0</td>\n",
              "      <td>0.0</td>\n",
              "      <td>0.0</td>\n",
              "      <td>0.0</td>\n",
              "      <td>0.0</td>\n",
              "      <td>0.0</td>\n",
              "      <td>0.0</td>\n",
              "      <td>0.0</td>\n",
              "      <td>0.0</td>\n",
              "      <td>0.0</td>\n",
              "      <td>0.0</td>\n",
              "      <td>0.0</td>\n",
              "      <td>20.0</td>\n",
              "      <td>20.0</td>\n",
              "      <td>19230.769230</td>\n",
              "      <td>19230.769230</td>\n",
              "      <td>6.0</td>\n",
              "      <td>6.0</td>\n",
              "      <td>6.0</td>\n",
              "      <td>0.0</td>\n",
              "      <td>0.0</td>\n",
              "      <td>0.0</td>\n",
              "      <td>0.0</td>\n",
              "      <td>0.0</td>\n",
              "      <td>0.0</td>\n",
              "      <td>1.0</td>\n",
              "      <td>1.0</td>\n",
              "      <td>0.0</td>\n",
              "      <td>0.0</td>\n",
              "      <td>1.0</td>\n",
              "      <td>9.0</td>\n",
              "      <td>6.0</td>\n",
              "      <td>6.0</td>\n",
              "      <td>20.0</td>\n",
              "      <td>0.0</td>\n",
              "      <td>0.0</td>\n",
              "      <td>0.0</td>\n",
              "      <td>0.0</td>\n",
              "      <td>0.0</td>\n",
              "      <td>0.0</td>\n",
              "      <td>1.0</td>\n",
              "      <td>6.0</td>\n",
              "      <td>1.0</td>\n",
              "      <td>6.0</td>\n",
              "      <td>29.0</td>\n",
              "      <td>256.0</td>\n",
              "      <td>0.0</td>\n",
              "      <td>20.0</td>\n",
              "      <td>0.0</td>\n",
              "      <td>0.0</td>\n",
              "      <td>0.0</td>\n",
              "      <td>0.0</td>\n",
              "      <td>0.0</td>\n",
              "      <td>0.0</td>\n",
              "      <td>0.0</td>\n",
              "      <td>0.0</td>\n",
              "    </tr>\n",
              "    <tr>\n",
              "      <th>3</th>\n",
              "      <td>46236.0</td>\n",
              "      <td>34.0</td>\n",
              "      <td>1.0</td>\n",
              "      <td>1.0</td>\n",
              "      <td>6.0</td>\n",
              "      <td>6.0</td>\n",
              "      <td>6.0</td>\n",
              "      <td>6.0</td>\n",
              "      <td>6.0</td>\n",
              "      <td>0.0</td>\n",
              "      <td>6.0</td>\n",
              "      <td>6.0</td>\n",
              "      <td>6.0</td>\n",
              "      <td>0.0</td>\n",
              "      <td>3.529412e+05</td>\n",
              "      <td>58823.52941</td>\n",
              "      <td>34.0</td>\n",
              "      <td>0.0</td>\n",
              "      <td>34.0</td>\n",
              "      <td>34.0</td>\n",
              "      <td>0.0</td>\n",
              "      <td>0.0</td>\n",
              "      <td>0.0</td>\n",
              "      <td>0.0</td>\n",
              "      <td>0.0</td>\n",
              "      <td>0.0</td>\n",
              "      <td>0.0</td>\n",
              "      <td>0.0</td>\n",
              "      <td>0.0</td>\n",
              "      <td>0.0</td>\n",
              "      <td>0.0</td>\n",
              "      <td>0.0</td>\n",
              "      <td>0.0</td>\n",
              "      <td>0.0</td>\n",
              "      <td>20.0</td>\n",
              "      <td>20.0</td>\n",
              "      <td>29411.764710</td>\n",
              "      <td>29411.764710</td>\n",
              "      <td>6.0</td>\n",
              "      <td>6.0</td>\n",
              "      <td>6.0</td>\n",
              "      <td>0.0</td>\n",
              "      <td>0.0</td>\n",
              "      <td>0.0</td>\n",
              "      <td>0.0</td>\n",
              "      <td>0.0</td>\n",
              "      <td>0.0</td>\n",
              "      <td>1.0</td>\n",
              "      <td>1.0</td>\n",
              "      <td>0.0</td>\n",
              "      <td>0.0</td>\n",
              "      <td>1.0</td>\n",
              "      <td>9.0</td>\n",
              "      <td>6.0</td>\n",
              "      <td>6.0</td>\n",
              "      <td>20.0</td>\n",
              "      <td>0.0</td>\n",
              "      <td>0.0</td>\n",
              "      <td>0.0</td>\n",
              "      <td>0.0</td>\n",
              "      <td>0.0</td>\n",
              "      <td>0.0</td>\n",
              "      <td>1.0</td>\n",
              "      <td>6.0</td>\n",
              "      <td>1.0</td>\n",
              "      <td>6.0</td>\n",
              "      <td>31.0</td>\n",
              "      <td>329.0</td>\n",
              "      <td>0.0</td>\n",
              "      <td>20.0</td>\n",
              "      <td>0.0</td>\n",
              "      <td>0.0</td>\n",
              "      <td>0.0</td>\n",
              "      <td>0.0</td>\n",
              "      <td>0.0</td>\n",
              "      <td>0.0</td>\n",
              "      <td>0.0</td>\n",
              "      <td>0.0</td>\n",
              "    </tr>\n",
              "    <tr>\n",
              "      <th>4</th>\n",
              "      <td>54863.0</td>\n",
              "      <td>3.0</td>\n",
              "      <td>2.0</td>\n",
              "      <td>0.0</td>\n",
              "      <td>12.0</td>\n",
              "      <td>0.0</td>\n",
              "      <td>6.0</td>\n",
              "      <td>6.0</td>\n",
              "      <td>6.0</td>\n",
              "      <td>0.0</td>\n",
              "      <td>0.0</td>\n",
              "      <td>0.0</td>\n",
              "      <td>0.0</td>\n",
              "      <td>0.0</td>\n",
              "      <td>4.000000e+06</td>\n",
              "      <td>666666.66670</td>\n",
              "      <td>3.0</td>\n",
              "      <td>0.0</td>\n",
              "      <td>3.0</td>\n",
              "      <td>3.0</td>\n",
              "      <td>3.0</td>\n",
              "      <td>3.0</td>\n",
              "      <td>0.0</td>\n",
              "      <td>3.0</td>\n",
              "      <td>3.0</td>\n",
              "      <td>0.0</td>\n",
              "      <td>0.0</td>\n",
              "      <td>0.0</td>\n",
              "      <td>0.0</td>\n",
              "      <td>0.0</td>\n",
              "      <td>0.0</td>\n",
              "      <td>0.0</td>\n",
              "      <td>0.0</td>\n",
              "      <td>0.0</td>\n",
              "      <td>40.0</td>\n",
              "      <td>0.0</td>\n",
              "      <td>666666.666700</td>\n",
              "      <td>0.000000</td>\n",
              "      <td>6.0</td>\n",
              "      <td>6.0</td>\n",
              "      <td>6.0</td>\n",
              "      <td>0.0</td>\n",
              "      <td>0.0</td>\n",
              "      <td>0.0</td>\n",
              "      <td>0.0</td>\n",
              "      <td>0.0</td>\n",
              "      <td>0.0</td>\n",
              "      <td>1.0</td>\n",
              "      <td>0.0</td>\n",
              "      <td>0.0</td>\n",
              "      <td>0.0</td>\n",
              "      <td>0.0</td>\n",
              "      <td>9.0</td>\n",
              "      <td>6.0</td>\n",
              "      <td>0.0</td>\n",
              "      <td>40.0</td>\n",
              "      <td>0.0</td>\n",
              "      <td>0.0</td>\n",
              "      <td>0.0</td>\n",
              "      <td>0.0</td>\n",
              "      <td>0.0</td>\n",
              "      <td>0.0</td>\n",
              "      <td>2.0</td>\n",
              "      <td>12.0</td>\n",
              "      <td>0.0</td>\n",
              "      <td>0.0</td>\n",
              "      <td>32.0</td>\n",
              "      <td>-1.0</td>\n",
              "      <td>1.0</td>\n",
              "      <td>20.0</td>\n",
              "      <td>0.0</td>\n",
              "      <td>0.0</td>\n",
              "      <td>0.0</td>\n",
              "      <td>0.0</td>\n",
              "      <td>0.0</td>\n",
              "      <td>0.0</td>\n",
              "      <td>0.0</td>\n",
              "      <td>0.0</td>\n",
              "    </tr>\n",
              "  </tbody>\n",
              "</table>\n",
              "</div>"
            ],
            "text/plain": [
              "   DestinationPort  FlowDuration  TotalFwdPackets  ...  IdleStd  IdleMax  IdleMin\n",
              "0          54865.0           3.0              2.0  ...      0.0      0.0      0.0\n",
              "1          55054.0         109.0              1.0  ...      0.0      0.0      0.0\n",
              "2          55055.0          52.0              1.0  ...      0.0      0.0      0.0\n",
              "3          46236.0          34.0              1.0  ...      0.0      0.0      0.0\n",
              "4          54863.0           3.0              2.0  ...      0.0      0.0      0.0\n",
              "\n",
              "[5 rows x 78 columns]"
            ]
          },
          "metadata": {
            "tags": []
          },
          "execution_count": 26
        }
      ]
    },
    {
      "cell_type": "code",
      "metadata": {
        "id": "lWZT5t6HZhex"
      },
      "source": [
        "# For scaling the data, we use RobustScaler class from sklearn.\n",
        "\n",
        "from sklearn.preprocessing import MinMaxScaler, StandardScaler, RobustScaler"
      ],
      "execution_count": 27,
      "outputs": []
    },
    {
      "cell_type": "code",
      "metadata": {
        "id": "iGSkw7n2Ziml"
      },
      "source": [
        "scaler = RobustScaler()\n",
        "scaler.fit(features)\n",
        "\n",
        "features = scaler.transform(features)"
      ],
      "execution_count": 28,
      "outputs": []
    },
    {
      "cell_type": "code",
      "metadata": {
        "colab": {
          "base_uri": "https://localhost:8080/"
        },
        "id": "5IEU99-_ZkdF",
        "outputId": "eedba648-69d7-45b9-cb76-ed84af47aa7a"
      },
      "source": [
        "# Checking if scaling has been succesful.\n",
        "features[0]"
      ],
      "execution_count": 29,
      "outputs": [
        {
          "output_type": "execute_result",
          "data": {
            "text/plain": [
              "array([ 1.40474359e+02, -1.08800488e-02,  0.00000000e+00, -5.00000000e-01,\n",
              "       -1.73374613e-01, -1.01886792e-01, -1.57657658e-01,  1.08108108e-01,\n",
              "       -6.59574468e-01,  0.00000000e+00, -1.11356119e-01,  0.00000000e+00,\n",
              "       -4.00833491e-01,  0.00000000e+00,  6.24025254e+01,  4.40008275e+01,\n",
              "       -3.54918620e-02, -8.36254323e-03, -9.42871935e-03, -1.47058824e-02,\n",
              "       -8.75642074e-06, -5.47273279e-05,  0.00000000e+00, -9.27606653e-06,\n",
              "        0.00000000e+00, -1.75808720e-05, -9.01237850e-05,  0.00000000e+00,\n",
              "       -2.23633599e-05, -6.38297872e-02,  0.00000000e+00,  0.00000000e+00,\n",
              "        0.00000000e+00,  0.00000000e+00, -2.14285714e-01, -3.57142857e-01,\n",
              "        7.96727544e+01, -8.97344275e-02,  1.08108108e-01, -7.19629498e-02,\n",
              "       -3.65960885e-01, -9.30566480e-02, -8.52278784e-03,  0.00000000e+00,\n",
              "        0.00000000e+00,  0.00000000e+00,  0.00000000e+00,  1.00000000e+00,\n",
              "        0.00000000e+00,  0.00000000e+00,  0.00000000e+00, -1.00000000e+00,\n",
              "       -4.14028384e-01, -6.59574468e-01, -4.00833491e-01, -2.14285714e-01,\n",
              "        0.00000000e+00,  0.00000000e+00,  0.00000000e+00,  0.00000000e+00,\n",
              "        0.00000000e+00,  0.00000000e+00,  0.00000000e+00, -1.73374613e-01,\n",
              "       -5.00000000e-01, -1.01886792e-01, -2.66080801e-02, -4.23728814e-03,\n",
              "        0.00000000e+00,  0.00000000e+00,  0.00000000e+00,  0.00000000e+00,\n",
              "        0.00000000e+00,  0.00000000e+00,  0.00000000e+00,  0.00000000e+00,\n",
              "        0.00000000e+00,  0.00000000e+00])"
            ]
          },
          "metadata": {
            "tags": []
          },
          "execution_count": 29
        }
      ]
    },
    {
      "cell_type": "markdown",
      "metadata": {
        "id": "kdYvdE4DZ2l6"
      },
      "source": [
        "### **Label encoding**"
      ]
    },
    {
      "cell_type": "code",
      "metadata": {
        "id": "V8GA1TXxZmD9"
      },
      "source": [
        "from sklearn.preprocessing import LabelEncoder\n"
      ],
      "execution_count": 30,
      "outputs": []
    },
    {
      "cell_type": "code",
      "metadata": {
        "id": "raygT2rDZoIw"
      },
      "source": [
        "LE = LabelEncoder()\n",
        "\n",
        "LE.fit(labels)\n",
        "labels = LE.transform(labels)"
      ],
      "execution_count": 31,
      "outputs": []
    },
    {
      "cell_type": "code",
      "metadata": {
        "colab": {
          "base_uri": "https://localhost:8080/"
        },
        "id": "uUO_imYgZpbN",
        "outputId": "a5eae476-b01f-415d-9278-d60b3c13f19b"
      },
      "source": [
        "\n",
        "# Labels have been replaced with integers.\n",
        "\n",
        "np.unique(labels)"
      ],
      "execution_count": 32,
      "outputs": [
        {
          "output_type": "execute_result",
          "data": {
            "text/plain": [
              "array([ 0,  1,  2,  3,  4,  5,  6,  7,  8,  9, 10, 11, 12, 13, 14])"
            ]
          },
          "metadata": {
            "tags": []
          },
          "execution_count": 32
        }
      ]
    },
    {
      "cell_type": "code",
      "metadata": {
        "colab": {
          "base_uri": "https://localhost:8080/"
        },
        "id": "6Ci8tzHIZqlE",
        "outputId": "c5536478-07c2-429f-8bdd-e388efc986d7"
      },
      "source": [
        "# Checking that encoding reversal works.\n",
        "\n",
        "d = LE.inverse_transform(labels)\n",
        "d = pd.Series(d)\n",
        "d.unique()"
      ],
      "execution_count": 33,
      "outputs": [
        {
          "output_type": "execute_result",
          "data": {
            "text/plain": [
              "array(['BENIGN', 'DDoS', 'PortScan', 'Bot', 'Infiltration',\n",
              "       'Web_Attack_Brute_Force', 'Web_Attack_XSS',\n",
              "       'Web_Attack_Sql_Injection', 'FTPPatator', 'SSHPatator',\n",
              "       'DoS_slowloris', 'DoS_Slowhttptest', 'DoS_Hulk', 'DoS_GoldenEye',\n",
              "       'Heartbleed'], dtype=object)"
            ]
          },
          "metadata": {
            "tags": []
          },
          "execution_count": 33
        }
      ]
    },
    {
      "cell_type": "markdown",
      "metadata": {
        "id": "DO0r6S-tZ59D"
      },
      "source": [
        "### **Splitting the data**"
      ]
    },
    {
      "cell_type": "code",
      "metadata": {
        "colab": {
          "base_uri": "https://localhost:8080/"
        },
        "id": "sIwcRjD4ZyMi",
        "outputId": "4ecb3c77-5928-43f8-eef4-49f2f078ce3a"
      },
      "source": [
        "from sklearn.model_selection import train_test_split\n",
        "features_train, features_test, labels_train, labels_test = train_test_split(features, labels, test_size=.2)\n",
        "\n",
        "features_train.shape, features_test.shape, labels_train.shape, labels_test.shape"
      ],
      "execution_count": 34,
      "outputs": [
        {
          "output_type": "execute_result",
          "data": {
            "text/plain": [
              "((1940581, 78), (485146, 78), (1940581,), (485146,))"
            ]
          },
          "metadata": {
            "tags": []
          },
          "execution_count": 34
        }
      ]
    },
    {
      "cell_type": "code",
      "metadata": {
        "id": "yBpdCYSAZ-sm"
      },
      "source": [
        "# Clearing variables.\n",
        "\n",
        "dataset = None\n",
        "finite = None\n",
        "labl = None\n",
        "d = None\n",
        "features = None\n",
        "labels = None"
      ],
      "execution_count": 35,
      "outputs": []
    },
    {
      "cell_type": "markdown",
      "metadata": {
        "id": "MbowIPi3aA61"
      },
      "source": [
        "### **Model training**"
      ]
    },
    {
      "cell_type": "code",
      "metadata": {
        "id": "kenqL9fsZ-5k"
      },
      "source": [
        "import tensorflow as tf\n",
        "import datetime\n",
        "import os\n"
      ],
      "execution_count": 36,
      "outputs": []
    },
    {
      "cell_type": "code",
      "metadata": {
        "id": "i9sI7H9yaEf9"
      },
      "source": [
        "model = tf.keras.models.Sequential([\n",
        "    \n",
        "    tf.keras.layers.Flatten(input_shape=(78,)),\n",
        "    tf.keras.layers.Dense(67, activation='relu'),\n",
        "    tf.keras.layers.Dropout(0.2),\n",
        "    tf.keras.layers.Dense(15, activation='softmax')\n",
        "])"
      ],
      "execution_count": 37,
      "outputs": []
    },
    {
      "cell_type": "code",
      "metadata": {
        "id": "x1T0jEMUaF7k"
      },
      "source": [
        "model.compile(optimizer='adam',\n",
        "             loss='sparse_categorical_crossentropy',\n",
        "             metrics=['accuracy'])"
      ],
      "execution_count": 38,
      "outputs": []
    },
    {
      "cell_type": "code",
      "metadata": {
        "id": "SeYX2Uu5aH2N"
      },
      "source": [
        "log_dir = os.path.join(\n",
        "    \"train_logs\",\n",
        "    datetime.datetime.now().strftime(\"%Y%m%d-%H%M%S\"),\n",
        ")\n",
        "\n",
        "# TF callback that sets up TensorBoard with training logs.\n",
        "tensorboard_callback = tf.keras.callbacks.TensorBoard(log_dir=log_dir, histogram_freq=1)\n",
        "\n",
        "# TF callback that stops training when best value of validationi loss function is reached. It also\n",
        "# restores weights from the best training iteration.\n",
        "eary_stop_callback = tf.keras.callbacks.EarlyStopping(monitor='loss', patience=10, restore_best_weights=True)"
      ],
      "execution_count": 39,
      "outputs": []
    },
    {
      "cell_type": "code",
      "metadata": {
        "colab": {
          "base_uri": "https://localhost:8080/"
        },
        "id": "Qs7KfUqzaLH8",
        "outputId": "d39c1f1a-bd5b-452c-a9ec-de2dffa6ee09"
      },
      "source": [
        "model.fit(features_train,\n",
        "          labels_train,\n",
        "          epochs=100,\n",
        "          callbacks=[tensorboard_callback, eary_stop_callback])"
      ],
      "execution_count": 40,
      "outputs": [
        {
          "output_type": "stream",
          "text": [
            "Epoch 1/100\n",
            "60644/60644 [==============================] - 103s 2ms/step - loss: 21432.2110 - accuracy: 0.8827\n",
            "Epoch 2/100\n",
            "60644/60644 [==============================] - 104s 2ms/step - loss: 4.6999 - accuracy: 0.9083\n",
            "Epoch 3/100\n",
            "60644/60644 [==============================] - 101s 2ms/step - loss: 0.5564 - accuracy: 0.9089\n",
            "Epoch 4/100\n",
            "60644/60644 [==============================] - 99s 2ms/step - loss: 0.5029 - accuracy: 0.9094\n",
            "Epoch 5/100\n",
            "60644/60644 [==============================] - 99s 2ms/step - loss: 1.6758 - accuracy: 0.9094\n",
            "Epoch 6/100\n",
            "60644/60644 [==============================] - 100s 2ms/step - loss: 0.5525 - accuracy: 0.9098\n",
            "Epoch 7/100\n",
            "60644/60644 [==============================] - 98s 2ms/step - loss: 0.7450 - accuracy: 0.9094\n",
            "Epoch 8/100\n",
            "60644/60644 [==============================] - 102s 2ms/step - loss: 0.7388 - accuracy: 0.9095\n",
            "Epoch 9/100\n",
            "60644/60644 [==============================] - 98s 2ms/step - loss: 0.4323 - accuracy: 0.9097\n",
            "Epoch 10/100\n",
            "60644/60644 [==============================] - 97s 2ms/step - loss: 0.4226 - accuracy: 0.9096\n",
            "Epoch 11/100\n",
            "60644/60644 [==============================] - 96s 2ms/step - loss: 0.4335 - accuracy: 0.9095\n",
            "Epoch 12/100\n",
            "60644/60644 [==============================] - 98s 2ms/step - loss: 1.2338 - accuracy: 0.9096\n",
            "Epoch 13/100\n",
            "60644/60644 [==============================] - 98s 2ms/step - loss: 0.6927 - accuracy: 0.9097\n",
            "Epoch 14/100\n",
            "60644/60644 [==============================] - 99s 2ms/step - loss: 0.4130 - accuracy: 0.9094\n",
            "Epoch 15/100\n",
            "60644/60644 [==============================] - 101s 2ms/step - loss: 1.0914 - accuracy: 0.9099\n",
            "Epoch 16/100\n",
            "60644/60644 [==============================] - 99s 2ms/step - loss: 0.8630 - accuracy: 0.9101\n",
            "Epoch 17/100\n",
            "60644/60644 [==============================] - 100s 2ms/step - loss: 0.8145 - accuracy: 0.9099\n",
            "Epoch 18/100\n",
            "60644/60644 [==============================] - 99s 2ms/step - loss: 0.7393 - accuracy: 0.9098\n",
            "Epoch 19/100\n",
            "60644/60644 [==============================] - 98s 2ms/step - loss: 0.7495 - accuracy: 0.9098\n",
            "Epoch 20/100\n",
            "60644/60644 [==============================] - 99s 2ms/step - loss: 0.9427 - accuracy: 0.9103\n"
          ],
          "name": "stdout"
        },
        {
          "output_type": "execute_result",
          "data": {
            "text/plain": [
              "<tensorflow.python.keras.callbacks.History at 0x7ff485a44550>"
            ]
          },
          "metadata": {
            "tags": []
          },
          "execution_count": 40
        }
      ]
    },
    {
      "cell_type": "code",
      "metadata": {
        "colab": {
          "base_uri": "https://localhost:8080/"
        },
        "id": "MikJ1ULCaM3F",
        "outputId": "bdb11517-bb15-48d7-d96b-07d5ce6a815a"
      },
      "source": [
        "# Evaluating model accuracy.\n",
        "model.evaluate(features_test, labels_test, verbose=2)"
      ],
      "execution_count": 41,
      "outputs": [
        {
          "output_type": "stream",
          "text": [
            "15161/15161 - 11s - loss: 0.2861 - accuracy: 0.9107\n"
          ],
          "name": "stdout"
        },
        {
          "output_type": "execute_result",
          "data": {
            "text/plain": [
              "[0.28613191843032837, 0.9107464551925659]"
            ]
          },
          "metadata": {
            "tags": []
          },
          "execution_count": 41
        }
      ]
    },
    {
      "cell_type": "code",
      "metadata": {
        "id": "GBvhO3GvaPWU"
      },
      "source": [
        "# Saving the model.\n",
        "\n",
        "model.save('saved_models/IDS_model_' + datetime.datetime.now().strftime(\"%Y%m%d-%H%M%S\") + '.h5')"
      ],
      "execution_count": 42,
      "outputs": []
    },
    {
      "cell_type": "code",
      "metadata": {
        "id": "kt3eaAkvaR2V"
      },
      "source": [
        ""
      ],
      "execution_count": 42,
      "outputs": []
    }
  ]
}