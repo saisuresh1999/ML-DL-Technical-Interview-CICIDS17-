{
  "nbformat": 4,
  "nbformat_minor": 0,
  "metadata": {
    "colab": {
      "name": "Naive Bayes.ipynb",
      "provenance": [],
      "toc_visible": true,
      "mount_file_id": "1Iumf5hIG9C1j70KprYx9M_hSMCd9UDR2",
      "authorship_tag": "ABX9TyM4Yh26KJLhWbAu4IkiXn1f",
      "include_colab_link": true
    },
    "kernelspec": {
      "name": "python3",
      "display_name": "Python 3"
    },
    "language_info": {
      "name": "python"
    },
    "accelerator": "GPU"
  },
  "cells": [
    {
      "cell_type": "markdown",
      "metadata": {
        "id": "view-in-github",
        "colab_type": "text"
      },
      "source": [
        "<a href=\"https://colab.research.google.com/github/saisuresh1999/ML-DL-Technical-Interview-CICIDS17-/blob/main/Naive_Bayes.ipynb\" target=\"_parent\"><img src=\"https://colab.research.google.com/assets/colab-badge.svg\" alt=\"Open In Colab\"/></a>"
      ]
    },
    {
      "cell_type": "code",
      "metadata": {
        "id": "NN5M_FeMGyxZ"
      },
      "source": [
        "import pandas as pd\n",
        "from time import time\n",
        "from sklearn.model_selection import train_test_split\n",
        "from sklearn import preprocessing"
      ],
      "execution_count": 1,
      "outputs": []
    },
    {
      "cell_type": "code",
      "metadata": {
        "id": "PpEptCWJG1NB"
      },
      "source": [
        "import glob\n",
        "import matplotlib.pyplot as plt\n",
        "import numpy as np\n",
        "import pandas as pd \n",
        "import seaborn\n",
        "import time\n",
        "\n",
        "from numpy import array\n",
        "\n",
        "from sklearn import preprocessing\n",
        "from sklearn.preprocessing import StandardScaler\n",
        "from sklearn.preprocessing import MinMaxScaler\n",
        "from sklearn.preprocessing import RobustScaler\n",
        "\n",
        "from sklearn.naive_bayes import MultinomialNB\n",
        "\n",
        "\n",
        "from sklearn.feature_selection import SelectKBest\n",
        "from sklearn.feature_selection import chi2\n",
        "from sklearn.feature_selection import mutual_info_classif\n",
        "\n",
        "from sklearn import metrics\n",
        "from sklearn.metrics import accuracy_score\n",
        "from sklearn.metrics import confusion_matrix\n",
        "from sklearn.metrics import precision_recall_fscore_support as score\n",
        "from sklearn.metrics import completeness_score, homogeneity_score, v_measure_score\n",
        "\n",
        "from sklearn.model_selection import train_test_split"
      ],
      "execution_count": 2,
      "outputs": []
    },
    {
      "cell_type": "code",
      "metadata": {
        "id": "Gc8wrm9qG3aH"
      },
      "source": [
        "datapath = \"/content/drive/MyDrive/Dataset_clean.csv\"\n",
        "df=pd.read_csv(datapath,header=0,low_memory=False)"
      ],
      "execution_count": 3,
      "outputs": []
    },
    {
      "cell_type": "code",
      "metadata": {
        "id": "zzT4mfHJHZyp"
      },
      "source": [
        "# Create attack column, containing binary labels\n",
        "\n",
        "df['Attack'] = np.where(df['Label'] == 'BENIGN', 0, 1)"
      ],
      "execution_count": 4,
      "outputs": []
    },
    {
      "cell_type": "code",
      "metadata": {
        "colab": {
          "base_uri": "https://localhost:8080/",
          "height": 311
        },
        "id": "bz--60lyHlbf",
        "outputId": "aa49b65b-221f-47fd-fc42-df8fc0a63b31"
      },
      "source": [
        "train_attacks = df['Attack'].value_counts()\n",
        "train_attacks.plot(kind='barh', color='#dead')\n",
        "plt.title('Distribution of Attack Categories (Binary) 1 means attacked and 0 means normal')"
      ],
      "execution_count": 5,
      "outputs": [
        {
          "output_type": "execute_result",
          "data": {
            "text/plain": [
              "Text(0.5, 1.0, 'Distribution of Attack Categories (Binary) 1 means attacked and 0 means normal')"
            ]
          },
          "metadata": {
            "tags": []
          },
          "execution_count": 5
        },
        {
          "output_type": "display_data",
          "data": {
            "image/png": "[encoded data removed]",
            "text/plain": [
              "<Figure size 432x288 with 1 Axes>"
            ]
          },
          "metadata": {
            "tags": [],
            "needs_background": "light"
          }
        }
      ]
    },
    {
      "cell_type": "code",
      "metadata": {
        "colab": {
          "base_uri": "https://localhost:8080/",
          "height": 311
        },
        "id": "oA2XU-4YHnxH",
        "outputId": "52f65afa-6a43-415d-d658-096d09c78359"
      },
      "source": [
        "train_attacks = df['Label'].value_counts()\n",
        "train_attacks.plot(kind='barh', color='#dead')\n",
        "plt.title('Distribution of Attack Categories')"
      ],
      "execution_count": 6,
      "outputs": [
        {
          "output_type": "execute_result",
          "data": {
            "text/plain": [
              "Text(0.5, 1.0, 'Distribution of Attack Categories')"
            ]
          },
          "metadata": {
            "tags": []
          },
          "execution_count": 6
        },
        {
          "output_type": "display_data",
          "data": {
            "image/png": "[encoded data removed]",
            "text/plain": [
              "<Figure size 432x288 with 1 Axes>"
            ]
          },
          "metadata": {
            "tags": [],
            "needs_background": "light"
          }
        }
      ]
    },
    {
      "cell_type": "markdown",
      "metadata": {
        "id": "7HjYr0PZLj-G"
      },
      "source": [
        "### **Train Test Split** "
      ]
    },
    {
      "cell_type": "code",
      "metadata": {
        "id": "YK_o2VRWLVkI"
      },
      "source": [
        "# 2 Different labeling options\n",
        "attacks = ['Label', 'Attack']"
      ],
      "execution_count": 7,
      "outputs": []
    },
    {
      "cell_type": "code",
      "metadata": {
        "id": "WSM4lQokLXhW"
      },
      "source": [
        "# xs=feature vectors, ys=labels\n",
        "xs = df.drop(attacks, axis=1)\n",
        "ys = df[attacks]\n",
        "\n",
        "# split dataset - stratified\n",
        "x_train, x_temp, y_train, y_temp = train_test_split(xs, ys, test_size=0.4, random_state=0, stratify=ys['Label'])\n",
        "x_test, x_validate, y_test, y_validate = train_test_split(x_temp, y_temp, test_size=0.5, random_state=0, stratify=y_temp['Label'])"
      ],
      "execution_count": 8,
      "outputs": []
    },
    {
      "cell_type": "markdown",
      "metadata": {
        "id": "LT2VKJTsL-46"
      },
      "source": [
        "### ****Normalisation****"
      ]
    },
    {
      "cell_type": "code",
      "metadata": {
        "colab": {
          "base_uri": "https://localhost:8080/"
        },
        "id": "52TnMQquLZgG",
        "outputId": "19db16e4-36ee-4641-a522-c2fb0e8d6f79"
      },
      "source": [
        "# Normalise\n",
        "min_max_scaler = MinMaxScaler().fit(x_train)\n",
        "\n",
        "# Apply normalisation to dataset\n",
        "x_train = min_max_scaler.transform(x_train)\n",
        "x_validate = min_max_scaler.transform(x_validate)\n",
        "x_test = min_max_scaler.transform(x_test)\n",
        "\n",
        "# All values between 0 and 1\n",
        "pd.Series(x_train.flatten()).describe()"
      ],
      "execution_count": 9,
      "outputs": [
        {
          "output_type": "execute_result",
          "data": {
            "text/plain": [
              "count    1.135240e+08\n",
              "mean     9.293711e-02\n",
              "std      2.607156e-01\n",
              "min      0.000000e+00\n",
              "25%      0.000000e+00\n",
              "50%      2.416666e-07\n",
              "75%      7.025204e-03\n",
              "max      1.000000e+00\n",
              "dtype: float64"
            ]
          },
          "metadata": {
            "tags": []
          },
          "execution_count": 9
        }
      ]
    },
    {
      "cell_type": "markdown",
      "metadata": {
        "id": "x3gmqbvTMI1I"
      },
      "source": [
        "### **Feature Selection**"
      ]
    },
    {
      "cell_type": "code",
      "metadata": {
        "id": "NXXfW_1wML9v"
      },
      "source": [
        "features = SelectKBest(score_func=chi2, k=x_train.shape[1])\n",
        "\n",
        "#fit features to the training dataset\n",
        "fit = features.fit(x_train, y_train.Label)"
      ],
      "execution_count": 10,
      "outputs": []
    },
    {
      "cell_type": "code",
      "metadata": {
        "colab": {
          "base_uri": "https://localhost:8080/",
          "height": 297
        },
        "id": "ZxnA3zD7MShG",
        "outputId": "723bc0a6-dbef-4b47-97fe-f535582117b6"
      },
      "source": [
        "# sort the features by importance score\n",
        "feature_importances = zip(df.columns, features.scores_)\n",
        "feature_importances = sorted(feature_importances, key = lambda x: x[1], reverse = True)\n",
        "sorted_importances = [importance[1] for importance in feature_importances]\n",
        "sorted_features = [importance[0] for importance in feature_importances]\n",
        "\n",
        "x_values = list(range(len(feature_importances)))\n",
        "\n",
        "# plot the cumulative scores\n",
        "cumulative_importances = np.cumsum(sorted_importances)\n",
        "plt.plot(x_values, cumulative_importances)\n",
        "\n",
        "# Draw line at 99% of importance retained \n",
        "value99 = cumulative_importances[-1]*0.99\n",
        "\n",
        "plt.hlines(y = value99, xmin=0, xmax=len(sorted_importances), color = 'r', linestyles = 'dashed')\n",
        "plt.xticks(x_values, sorted_features, rotation = 'vertical', fontsize=5)\n",
        "plt.yticks([], [])\n",
        "plt.xlabel('Feature Variable', fontsize=8)\n",
        "plt.title('A Chart to Show Cumulative Feature Scores', fontsize=8)\n",
        "#plt.figure(figsize=(500,200))\n",
        "plt.tight_layout()\n",
        "plt.savefig('cum_features.png', dpi=1080)"
      ],
      "execution_count": 11,
      "outputs": [
        {
          "output_type": "display_data",
          "data": {
            "image/png": "[encoded data removed]",
            "text/plain": [
              "<Figure size 432x288 with 1 Axes>"
            ]
          },
          "metadata": {
            "tags": [],
            "needs_background": "light"
          }
        }
      ]
    },
    {
      "cell_type": "code",
      "metadata": {
        "id": "qtOT1oPKMYR-"
      },
      "source": [
        "# perform selectkbest with k=40 becoz we select 40 features, 99% of the information is contained in the first 40, so this is the cut off point\n",
        "\n",
        "\n",
        "features = SelectKBest(score_func=chi2, k=40)\n",
        "fit = features.fit(x_train, y_train.Label)\n",
        "x_train = fit.transform(x_train)\n",
        "x_test = fit.transform(x_test)\n",
        "x_validate = fit.transform(x_validate)"
      ],
      "execution_count": 12,
      "outputs": []
    },
    {
      "cell_type": "code",
      "metadata": {
        "id": "fDsvwTAgMbR2"
      },
      "source": [
        "attack = np.array([\"BENIGN\",\t\"Bot\",\t\"DDoS\",\t\"DoS_GoldenEye\",\t\"DoS_Hulk\",\t\"DoS_Slowhttptest\",\t\"DoS_slowloris\"\t,\"FTPPatator\",\t\"Heartbleed\",\"Infiltration\"\t,\"PortScan\",\"SSHPatator\",\"Web_Attack_Brute_Force\",\t\"Web_Attack_Sql_Injection\",\"Web_Attack_XSS\"])"
      ],
      "execution_count": 13,
      "outputs": []
    },
    {
      "cell_type": "markdown",
      "metadata": {
        "id": "e43GNRv0MgtB"
      },
      "source": [
        "### **Naive Bayes**"
      ]
    },
    {
      "cell_type": "code",
      "metadata": {
        "id": "Cx5AcVBpMdM2"
      },
      "source": [
        "classifier = MultinomialNB()\n"
      ],
      "execution_count": 14,
      "outputs": []
    },
    {
      "cell_type": "markdown",
      "metadata": {
        "id": "Rey8Nx0YMsIB"
      },
      "source": [
        "### **All labels**"
      ]
    },
    {
      "cell_type": "code",
      "metadata": {
        "colab": {
          "base_uri": "https://localhost:8080/",
          "height": 562
        },
        "id": "vSvwugSNQvhL",
        "outputId": "0c187509-d493-42be-8dae-471b90482c24"
      },
      "source": [
        "# fit model\n",
        "start = time.time()\n",
        "classifier.fit(x_train, y_train.Label)\n",
        "end = time.time()\n",
        "training_time = end - start\n",
        "\n",
        "# predict\n",
        "start = time.time()\n",
        "y_predicted = classifier.predict(x_validate)\n",
        "end = time.time()\n",
        "predict_time = end  - start\n",
        "print(training_time, predict_time)\n",
        "\n",
        "confusion_nb_1 = pd.crosstab(y_validate.Label, y_predicted)\n",
        "confusion_nb_1"
      ],
      "execution_count": 15,
      "outputs": [
        {
          "output_type": "stream",
          "text": [
            "5.903223752975464 0.18544745445251465\n"
          ],
          "name": "stdout"
        },
        {
          "output_type": "execute_result",
          "data": {
            "text/html": [
              "<div>\n",
              "<style scoped>\n",
              "    .dataframe tbody tr th:only-of-type {\n",
              "        vertical-align: middle;\n",
              "    }\n",
              "\n",
              "    .dataframe tbody tr th {\n",
              "        vertical-align: top;\n",
              "    }\n",
              "\n",
              "    .dataframe thead th {\n",
              "        text-align: right;\n",
              "    }\n",
              "</style>\n",
              "<table border=\"1\" class=\"dataframe\">\n",
              "  <thead>\n",
              "    <tr style=\"text-align: right;\">\n",
              "      <th>col_0</th>\n",
              "      <th>BENIGN</th>\n",
              "      <th>DDoS</th>\n",
              "      <th>DoS_GoldenEye</th>\n",
              "      <th>DoS_Hulk</th>\n",
              "      <th>DoS_Slowhttptest</th>\n",
              "      <th>DoS_slowloris</th>\n",
              "    </tr>\n",
              "    <tr>\n",
              "      <th>Label</th>\n",
              "      <th></th>\n",
              "      <th></th>\n",
              "      <th></th>\n",
              "      <th></th>\n",
              "      <th></th>\n",
              "      <th></th>\n",
              "    </tr>\n",
              "  </thead>\n",
              "  <tbody>\n",
              "    <tr>\n",
              "      <th>BENIGN</th>\n",
              "      <td>401084</td>\n",
              "      <td>98</td>\n",
              "      <td>14</td>\n",
              "      <td>1308</td>\n",
              "      <td>47</td>\n",
              "      <td>4550</td>\n",
              "    </tr>\n",
              "    <tr>\n",
              "      <th>Bot</th>\n",
              "      <td>386</td>\n",
              "      <td>3</td>\n",
              "      <td>0</td>\n",
              "      <td>0</td>\n",
              "      <td>0</td>\n",
              "      <td>0</td>\n",
              "    </tr>\n",
              "    <tr>\n",
              "      <th>DDoS</th>\n",
              "      <td>9384</td>\n",
              "      <td>13133</td>\n",
              "      <td>0</td>\n",
              "      <td>3084</td>\n",
              "      <td>0</td>\n",
              "      <td>0</td>\n",
              "    </tr>\n",
              "    <tr>\n",
              "      <th>DoS_GoldenEye</th>\n",
              "      <td>1273</td>\n",
              "      <td>577</td>\n",
              "      <td>127</td>\n",
              "      <td>0</td>\n",
              "      <td>0</td>\n",
              "      <td>79</td>\n",
              "    </tr>\n",
              "    <tr>\n",
              "      <th>DoS_Hulk</th>\n",
              "      <td>3501</td>\n",
              "      <td>2497</td>\n",
              "      <td>0</td>\n",
              "      <td>28304</td>\n",
              "      <td>0</td>\n",
              "      <td>0</td>\n",
              "    </tr>\n",
              "    <tr>\n",
              "      <th>DoS_Slowhttptest</th>\n",
              "      <td>862</td>\n",
              "      <td>0</td>\n",
              "      <td>0</td>\n",
              "      <td>0</td>\n",
              "      <td>174</td>\n",
              "      <td>0</td>\n",
              "    </tr>\n",
              "    <tr>\n",
              "      <th>DoS_slowloris</th>\n",
              "      <td>813</td>\n",
              "      <td>0</td>\n",
              "      <td>0</td>\n",
              "      <td>0</td>\n",
              "      <td>31</td>\n",
              "      <td>214</td>\n",
              "    </tr>\n",
              "    <tr>\n",
              "      <th>FTPPatator</th>\n",
              "      <td>1096</td>\n",
              "      <td>0</td>\n",
              "      <td>0</td>\n",
              "      <td>0</td>\n",
              "      <td>0</td>\n",
              "      <td>0</td>\n",
              "    </tr>\n",
              "    <tr>\n",
              "      <th>Heartbleed</th>\n",
              "      <td>0</td>\n",
              "      <td>0</td>\n",
              "      <td>0</td>\n",
              "      <td>2</td>\n",
              "      <td>0</td>\n",
              "      <td>0</td>\n",
              "    </tr>\n",
              "    <tr>\n",
              "      <th>Infiltration</th>\n",
              "      <td>7</td>\n",
              "      <td>0</td>\n",
              "      <td>0</td>\n",
              "      <td>0</td>\n",
              "      <td>0</td>\n",
              "      <td>0</td>\n",
              "    </tr>\n",
              "    <tr>\n",
              "      <th>PortScan</th>\n",
              "      <td>11423</td>\n",
              "      <td>16</td>\n",
              "      <td>0</td>\n",
              "      <td>0</td>\n",
              "      <td>0</td>\n",
              "      <td>22</td>\n",
              "    </tr>\n",
              "    <tr>\n",
              "      <th>SSHPatator</th>\n",
              "      <td>614</td>\n",
              "      <td>0</td>\n",
              "      <td>0</td>\n",
              "      <td>0</td>\n",
              "      <td>0</td>\n",
              "      <td>0</td>\n",
              "    </tr>\n",
              "    <tr>\n",
              "      <th>Web_Attack_Brute_Force</th>\n",
              "      <td>289</td>\n",
              "      <td>0</td>\n",
              "      <td>0</td>\n",
              "      <td>0</td>\n",
              "      <td>0</td>\n",
              "      <td>0</td>\n",
              "    </tr>\n",
              "    <tr>\n",
              "      <th>Web_Attack_Sql_Injection</th>\n",
              "      <td>4</td>\n",
              "      <td>0</td>\n",
              "      <td>0</td>\n",
              "      <td>0</td>\n",
              "      <td>0</td>\n",
              "      <td>0</td>\n",
              "    </tr>\n",
              "    <tr>\n",
              "      <th>Web_Attack_XSS</th>\n",
              "      <td>130</td>\n",
              "      <td>0</td>\n",
              "      <td>0</td>\n",
              "      <td>0</td>\n",
              "      <td>0</td>\n",
              "      <td>0</td>\n",
              "    </tr>\n",
              "  </tbody>\n",
              "</table>\n",
              "</div>"
            ],
            "text/plain": [
              "col_0                     BENIGN   DDoS  ...  DoS_Slowhttptest  DoS_slowloris\n",
              "Label                                    ...                                 \n",
              "BENIGN                    401084     98  ...                47           4550\n",
              "Bot                          386      3  ...                 0              0\n",
              "DDoS                        9384  13133  ...                 0              0\n",
              "DoS_GoldenEye               1273    577  ...                 0             79\n",
              "DoS_Hulk                    3501   2497  ...                 0              0\n",
              "DoS_Slowhttptest             862      0  ...               174              0\n",
              "DoS_slowloris                813      0  ...                31            214\n",
              "FTPPatator                  1096      0  ...                 0              0\n",
              "Heartbleed                     0      0  ...                 0              0\n",
              "Infiltration                   7      0  ...                 0              0\n",
              "PortScan                   11423     16  ...                 0             22\n",
              "SSHPatator                   614      0  ...                 0              0\n",
              "Web_Attack_Brute_Force       289      0  ...                 0              0\n",
              "Web_Attack_Sql_Injection       4      0  ...                 0              0\n",
              "Web_Attack_XSS               130      0  ...                 0              0\n",
              "\n",
              "[15 rows x 6 columns]"
            ]
          },
          "metadata": {
            "tags": []
          },
          "execution_count": 15
        }
      ]
    },
    {
      "cell_type": "code",
      "metadata": {
        "colab": {
          "base_uri": "https://localhost:8080/",
          "height": 568
        },
        "id": "A_NO-XUNQ1yo",
        "outputId": "af732164-f074-42fc-bb07-0f7553daa226"
      },
      "source": [
        "precision, recall, fscore, support = score(y_validate.Label, y_predicted)\n",
        "d = {'attack': attack, 'precision': precision, 'recall' : recall, 'fscore': fscore}\n",
        "results = pd.DataFrame(data=d)\n",
        "results"
      ],
      "execution_count": 16,
      "outputs": [
        {
          "output_type": "stream",
          "text": [
            "/usr/local/lib/python3.7/dist-packages/sklearn/metrics/_classification.py:1272: UndefinedMetricWarning: Precision and F-score are ill-defined and being set to 0.0 in labels with no predicted samples. Use `zero_division` parameter to control this behavior.\n",
            "  _warn_prf(average, modifier, msg_start, len(result))\n"
          ],
          "name": "stderr"
        },
        {
          "output_type": "execute_result",
          "data": {
            "text/html": [
              "<div>\n",
              "<style scoped>\n",
              "    .dataframe tbody tr th:only-of-type {\n",
              "        vertical-align: middle;\n",
              "    }\n",
              "\n",
              "    .dataframe tbody tr th {\n",
              "        vertical-align: top;\n",
              "    }\n",
              "\n",
              "    .dataframe thead th {\n",
              "        text-align: right;\n",
              "    }\n",
              "</style>\n",
              "<table border=\"1\" class=\"dataframe\">\n",
              "  <thead>\n",
              "    <tr style=\"text-align: right;\">\n",
              "      <th></th>\n",
              "      <th>attack</th>\n",
              "      <th>precision</th>\n",
              "      <th>recall</th>\n",
              "      <th>fscore</th>\n",
              "    </tr>\n",
              "  </thead>\n",
              "  <tbody>\n",
              "    <tr>\n",
              "      <th>0</th>\n",
              "      <td>BENIGN</td>\n",
              "      <td>0.930879</td>\n",
              "      <td>0.985220</td>\n",
              "      <td>0.957279</td>\n",
              "    </tr>\n",
              "    <tr>\n",
              "      <th>1</th>\n",
              "      <td>Bot</td>\n",
              "      <td>0.000000</td>\n",
              "      <td>0.000000</td>\n",
              "      <td>0.000000</td>\n",
              "    </tr>\n",
              "    <tr>\n",
              "      <th>2</th>\n",
              "      <td>DDoS</td>\n",
              "      <td>0.804521</td>\n",
              "      <td>0.512988</td>\n",
              "      <td>0.626500</td>\n",
              "    </tr>\n",
              "    <tr>\n",
              "      <th>3</th>\n",
              "      <td>DoS_GoldenEye</td>\n",
              "      <td>0.900709</td>\n",
              "      <td>0.061770</td>\n",
              "      <td>0.115612</td>\n",
              "    </tr>\n",
              "    <tr>\n",
              "      <th>4</th>\n",
              "      <td>DoS_Hulk</td>\n",
              "      <td>0.865619</td>\n",
              "      <td>0.825141</td>\n",
              "      <td>0.844896</td>\n",
              "    </tr>\n",
              "    <tr>\n",
              "      <th>5</th>\n",
              "      <td>DoS_Slowhttptest</td>\n",
              "      <td>0.690476</td>\n",
              "      <td>0.167954</td>\n",
              "      <td>0.270186</td>\n",
              "    </tr>\n",
              "    <tr>\n",
              "      <th>6</th>\n",
              "      <td>DoS_slowloris</td>\n",
              "      <td>0.043988</td>\n",
              "      <td>0.202268</td>\n",
              "      <td>0.072261</td>\n",
              "    </tr>\n",
              "    <tr>\n",
              "      <th>7</th>\n",
              "      <td>FTPPatator</td>\n",
              "      <td>0.000000</td>\n",
              "      <td>0.000000</td>\n",
              "      <td>0.000000</td>\n",
              "    </tr>\n",
              "    <tr>\n",
              "      <th>8</th>\n",
              "      <td>Heartbleed</td>\n",
              "      <td>0.000000</td>\n",
              "      <td>0.000000</td>\n",
              "      <td>0.000000</td>\n",
              "    </tr>\n",
              "    <tr>\n",
              "      <th>9</th>\n",
              "      <td>Infiltration</td>\n",
              "      <td>0.000000</td>\n",
              "      <td>0.000000</td>\n",
              "      <td>0.000000</td>\n",
              "    </tr>\n",
              "    <tr>\n",
              "      <th>10</th>\n",
              "      <td>PortScan</td>\n",
              "      <td>0.000000</td>\n",
              "      <td>0.000000</td>\n",
              "      <td>0.000000</td>\n",
              "    </tr>\n",
              "    <tr>\n",
              "      <th>11</th>\n",
              "      <td>SSHPatator</td>\n",
              "      <td>0.000000</td>\n",
              "      <td>0.000000</td>\n",
              "      <td>0.000000</td>\n",
              "    </tr>\n",
              "    <tr>\n",
              "      <th>12</th>\n",
              "      <td>Web_Attack_Brute_Force</td>\n",
              "      <td>0.000000</td>\n",
              "      <td>0.000000</td>\n",
              "      <td>0.000000</td>\n",
              "    </tr>\n",
              "    <tr>\n",
              "      <th>13</th>\n",
              "      <td>Web_Attack_Sql_Injection</td>\n",
              "      <td>0.000000</td>\n",
              "      <td>0.000000</td>\n",
              "      <td>0.000000</td>\n",
              "    </tr>\n",
              "    <tr>\n",
              "      <th>14</th>\n",
              "      <td>Web_Attack_XSS</td>\n",
              "      <td>0.000000</td>\n",
              "      <td>0.000000</td>\n",
              "      <td>0.000000</td>\n",
              "    </tr>\n",
              "  </tbody>\n",
              "</table>\n",
              "</div>"
            ],
            "text/plain": [
              "                      attack  precision    recall    fscore\n",
              "0                     BENIGN   0.930879  0.985220  0.957279\n",
              "1                        Bot   0.000000  0.000000  0.000000\n",
              "2                       DDoS   0.804521  0.512988  0.626500\n",
              "3              DoS_GoldenEye   0.900709  0.061770  0.115612\n",
              "4                   DoS_Hulk   0.865619  0.825141  0.844896\n",
              "5           DoS_Slowhttptest   0.690476  0.167954  0.270186\n",
              "6              DoS_slowloris   0.043988  0.202268  0.072261\n",
              "7                 FTPPatator   0.000000  0.000000  0.000000\n",
              "8                 Heartbleed   0.000000  0.000000  0.000000\n",
              "9               Infiltration   0.000000  0.000000  0.000000\n",
              "10                  PortScan   0.000000  0.000000  0.000000\n",
              "11                SSHPatator   0.000000  0.000000  0.000000\n",
              "12    Web_Attack_Brute_Force   0.000000  0.000000  0.000000\n",
              "13  Web_Attack_Sql_Injection   0.000000  0.000000  0.000000\n",
              "14            Web_Attack_XSS   0.000000  0.000000  0.000000"
            ]
          },
          "metadata": {
            "tags": []
          },
          "execution_count": 16
        }
      ]
    },
    {
      "cell_type": "code",
      "metadata": {
        "colab": {
          "base_uri": "https://localhost:8080/"
        },
        "id": "JFfk6jJBQ4rg",
        "outputId": "cbba927c-9f44-43a9-a49a-21eda12ea230"
      },
      "source": [
        "precision_nb_1, recall_nb_1, fscore_nb_1, n = score(y_validate.Label, y_predicted, average = 'macro')\n",
        "accuracy_nb_1 = accuracy_score(y_validate.Label, y_predicted)"
      ],
      "execution_count": 17,
      "outputs": [
        {
          "output_type": "stream",
          "text": [
            "/usr/local/lib/python3.7/dist-packages/sklearn/metrics/_classification.py:1272: UndefinedMetricWarning: Precision and F-score are ill-defined and being set to 0.0 in labels with no predicted samples. Use `zero_division` parameter to control this behavior.\n",
            "  _warn_prf(average, modifier, msg_start, len(result))\n"
          ],
          "name": "stderr"
        }
      ]
    },
    {
      "cell_type": "markdown",
      "metadata": {
        "id": "Q2jIJNJUQ6-q"
      },
      "source": [
        "### **Binary Labels**"
      ]
    },
    {
      "cell_type": "code",
      "metadata": {
        "colab": {
          "base_uri": "https://localhost:8080/",
          "height": 159
        },
        "id": "xqor_H3iQ8tl",
        "outputId": "d457c628-d102-4634-eda5-eacc74f790a9"
      },
      "source": [
        "# fit model\n",
        "start = time.time()\n",
        "classifier.fit(x_train, y_train.Attack)\n",
        "end = time.time()\n",
        "training_time = end - start\n",
        "\n",
        "# predict\n",
        "start = time.time()\n",
        "y_predicted = classifier.predict(x_validate)\n",
        "end = time.time()\n",
        "predict_time = end  - start\n",
        "print(training_time, predict_time)\n",
        "\n",
        "confusion_nb_2 = pd.crosstab(y_validate.Attack, y_predicted)\n",
        "confusion_nb_2"
      ],
      "execution_count": 18,
      "outputs": [
        {
          "output_type": "stream",
          "text": [
            "0.4226679801940918 0.09068918228149414\n"
          ],
          "name": "stdout"
        },
        {
          "output_type": "execute_result",
          "data": {
            "text/html": [
              "<div>\n",
              "<style scoped>\n",
              "    .dataframe tbody tr th:only-of-type {\n",
              "        vertical-align: middle;\n",
              "    }\n",
              "\n",
              "    .dataframe tbody tr th {\n",
              "        vertical-align: top;\n",
              "    }\n",
              "\n",
              "    .dataframe thead th {\n",
              "        text-align: right;\n",
              "    }\n",
              "</style>\n",
              "<table border=\"1\" class=\"dataframe\">\n",
              "  <thead>\n",
              "    <tr style=\"text-align: right;\">\n",
              "      <th>col_0</th>\n",
              "      <th>0</th>\n",
              "      <th>1</th>\n",
              "    </tr>\n",
              "    <tr>\n",
              "      <th>Attack</th>\n",
              "      <th></th>\n",
              "      <th></th>\n",
              "    </tr>\n",
              "  </thead>\n",
              "  <tbody>\n",
              "    <tr>\n",
              "      <th>0</th>\n",
              "      <td>399734</td>\n",
              "      <td>7367</td>\n",
              "    </tr>\n",
              "    <tr>\n",
              "      <th>1</th>\n",
              "      <td>32596</td>\n",
              "      <td>45449</td>\n",
              "    </tr>\n",
              "  </tbody>\n",
              "</table>\n",
              "</div>"
            ],
            "text/plain": [
              "col_0        0      1\n",
              "Attack               \n",
              "0       399734   7367\n",
              "1        32596  45449"
            ]
          },
          "metadata": {
            "tags": []
          },
          "execution_count": 18
        }
      ]
    },
    {
      "cell_type": "code",
      "metadata": {
        "colab": {
          "base_uri": "https://localhost:8080/",
          "height": 111
        },
        "id": "2GPAX16NRBfa",
        "outputId": "8db6e970-390e-4c86-a746-3b26f0b1f43b"
      },
      "source": [
        "precision, recall, fscore, support = score(y_validate.Attack, y_predicted)\n",
        "d = {'attack': [0,1], 'precision': precision, 'recall' : recall, 'fscore': fscore}\n",
        "results = pd.DataFrame(data=d)\n",
        "results"
      ],
      "execution_count": 19,
      "outputs": [
        {
          "output_type": "execute_result",
          "data": {
            "text/html": [
              "<div>\n",
              "<style scoped>\n",
              "    .dataframe tbody tr th:only-of-type {\n",
              "        vertical-align: middle;\n",
              "    }\n",
              "\n",
              "    .dataframe tbody tr th {\n",
              "        vertical-align: top;\n",
              "    }\n",
              "\n",
              "    .dataframe thead th {\n",
              "        text-align: right;\n",
              "    }\n",
              "</style>\n",
              "<table border=\"1\" class=\"dataframe\">\n",
              "  <thead>\n",
              "    <tr style=\"text-align: right;\">\n",
              "      <th></th>\n",
              "      <th>attack</th>\n",
              "      <th>precision</th>\n",
              "      <th>recall</th>\n",
              "      <th>fscore</th>\n",
              "    </tr>\n",
              "  </thead>\n",
              "  <tbody>\n",
              "    <tr>\n",
              "      <th>0</th>\n",
              "      <td>0</td>\n",
              "      <td>0.924604</td>\n",
              "      <td>0.981904</td>\n",
              "      <td>0.952393</td>\n",
              "    </tr>\n",
              "    <tr>\n",
              "      <th>1</th>\n",
              "      <td>1</td>\n",
              "      <td>0.860516</td>\n",
              "      <td>0.582344</td>\n",
              "      <td>0.694615</td>\n",
              "    </tr>\n",
              "  </tbody>\n",
              "</table>\n",
              "</div>"
            ],
            "text/plain": [
              "   attack  precision    recall    fscore\n",
              "0       0   0.924604  0.981904  0.952393\n",
              "1       1   0.860516  0.582344  0.694615"
            ]
          },
          "metadata": {
            "tags": []
          },
          "execution_count": 19
        }
      ]
    },
    {
      "cell_type": "code",
      "metadata": {
        "id": "daPPF7udRDyj"
      },
      "source": [
        "precision_nb_2, recall_nb_2, fscore_nb_2, n = score(y_validate.Attack, y_predicted, average = 'macro')\n",
        "accuracy_nb_2 = accuracy_score(y_validate.Attack, y_predicted)"
      ],
      "execution_count": 20,
      "outputs": []
    },
    {
      "cell_type": "markdown",
      "metadata": {
        "id": "Msesa96VRJWJ"
      },
      "source": [
        "### **Naive Bayes Eval Metrics Results**"
      ]
    },
    {
      "cell_type": "code",
      "metadata": {
        "colab": {
          "base_uri": "https://localhost:8080/"
        },
        "id": "ZNnh8bPCRI24",
        "outputId": "d6a656cc-823c-4374-87a6-d73d13c05182"
      },
      "source": [
        "print('Naive Bayes: Precision / Recall / Fscore / Accuracy')\n",
        "print('All labels:', precision_nb_1, recall_nb_1, fscore_nb_1, accuracy_nb_1)\n",
        "print('Binary labels:', precision_nb_2, recall_nb_2, fscore_nb_2, accuracy_nb_2)"
      ],
      "execution_count": 21,
      "outputs": [
        {
          "output_type": "stream",
          "text": [
            "Naive Bayes: Precision / Recall / Fscore / Accuracy\n",
            "All labels: 0.28241276414988975 0.1836894384045239 0.19244887893710957 0.9132013867990254\n",
            "Binary labels: 0.8925598216743772 0.7821236366891033 0.8235038242396606 0.9176268587188187\n"
          ],
          "name": "stdout"
        }
      ]
    }
  ]
}